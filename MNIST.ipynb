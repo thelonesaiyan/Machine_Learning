{
  "nbformat": 4,
  "nbformat_minor": 0,
  "metadata": {
    "colab": {
      "name": "Untitled2.ipynb",
      "provenance": [],
      "collapsed_sections": [],
      "authorship_tag": "ABX9TyMRO5zafU1nAnJSbOJa/7Sl",
      "include_colab_link": true
    },
    "kernelspec": {
      "name": "python3",
      "display_name": "Python 3"
    }
  },
  "cells": [
    {
      "cell_type": "markdown",
      "metadata": {
        "id": "view-in-github",
        "colab_type": "text"
      },
      "source": [
        "<a href=\"https://colab.research.google.com/github/thelonesaiyan/Machine_Learning/blob/master/MNIST.ipynb\" target=\"_parent\"><img src=\"https://colab.research.google.com/assets/colab-badge.svg\" alt=\"Open In Colab\"/></a>"
      ]
    },
    {
      "cell_type": "markdown",
      "metadata": {
        "id": "wjkFGnmXyJMl",
        "colab_type": "text"
      },
      "source": [
        "MNIST\n"
      ]
    },
    {
      "cell_type": "code",
      "metadata": {
        "id": "RIYLfMLyyKWq",
        "colab_type": "code",
        "colab": {}
      },
      "source": [
        "import tensorflow as tf\n",
        "from tensorflow.keras.datasets import mnist\n",
        "(train_samples, train_labels), (test_samples, test_labels) = mnist.load_data()"
      ],
      "execution_count": 0,
      "outputs": []
    },
    {
      "cell_type": "code",
      "metadata": {
        "id": "sBQvllEgyb5L",
        "colab_type": "code",
        "colab": {
          "base_uri": "https://localhost:8080/",
          "height": 84
        },
        "outputId": "8e0eb22b-3c1f-44b0-8d3e-ce206e7e7148"
      },
      "source": [
        "print(train_samples.shape)\n",
        "print(train_labels.shape)\n",
        "print(test_samples.shape)\n",
        "print(test_labels.shape)"
      ],
      "execution_count": 52,
      "outputs": [
        {
          "output_type": "stream",
          "text": [
            "(60000, 28, 28)\n",
            "(60000,)\n",
            "(10000, 28, 28)\n",
            "(10000,)\n"
          ],
          "name": "stdout"
        }
      ]
    },
    {
      "cell_type": "markdown",
      "metadata": {
        "id": "oFGMgjLpzIk3",
        "colab_type": "text"
      },
      "source": [
        "Range of Values"
      ]
    },
    {
      "cell_type": "code",
      "metadata": {
        "id": "Yjw9C5FIzGiZ",
        "colab_type": "code",
        "colab": {
          "base_uri": "https://localhost:8080/",
          "height": 34
        },
        "outputId": "a9f1d7cb-9fec-46aa-8e91-a131b6f2d04e"
      },
      "source": [
        "import numpy as np\n",
        "\n",
        "np.amax(train_samples) # max_value"
      ],
      "execution_count": 53,
      "outputs": [
        {
          "output_type": "execute_result",
          "data": {
            "text/plain": [
              "255"
            ]
          },
          "metadata": {
            "tags": []
          },
          "execution_count": 53
        }
      ]
    },
    {
      "cell_type": "code",
      "metadata": {
        "id": "qeC4PeEizXXw",
        "colab_type": "code",
        "colab": {
          "base_uri": "https://localhost:8080/",
          "height": 34
        },
        "outputId": "cd94c677-805e-413b-d7f7-f3859a593e67"
      },
      "source": [
        "np.amin(train_samples) # min_value"
      ],
      "execution_count": 54,
      "outputs": [
        {
          "output_type": "execute_result",
          "data": {
            "text/plain": [
              "0"
            ]
          },
          "metadata": {
            "tags": []
          },
          "execution_count": 54
        }
      ]
    },
    {
      "cell_type": "code",
      "metadata": {
        "id": "rgU-Lva3zeoB",
        "colab_type": "code",
        "colab": {
          "base_uri": "https://localhost:8080/",
          "height": 282
        },
        "outputId": "7647dd73-f470-4da6-92a6-5c496491b7c9"
      },
      "source": [
        "%matplotlib inline\n",
        "import matplotlib.pyplot as plt\n",
        "\n",
        "pic = train_samples[0]\n",
        "plt.imshow(pic , cmap = 'gray')\n",
        "\n",
        "print(\"Label of image is \", train_labels[0])"
      ],
      "execution_count": 55,
      "outputs": [
        {
          "output_type": "stream",
          "text": [
            "Label of image is  5\n"
          ],
          "name": "stdout"
        },
        {
          "output_type": "display_data",
          "data": {
            "image/png": "[encoded data removed]",
            "text/plain": [
              "<Figure size 432x288 with 1 Axes>"
            ]
          },
          "metadata": {
            "tags": [],
            "needs_background": "light"
          }
        }
      ]
    },
    {
      "cell_type": "markdown",
      "metadata": {
        "id": "MUCTeGS3z59n",
        "colab_type": "text"
      },
      "source": [
        "Data preparation"
      ]
    },
    {
      "cell_type": "markdown",
      "metadata": {
        "id": "LghUt5n_0B6N",
        "colab_type": "text"
      },
      "source": [
        " ### Normalize inputs (0, 1)"
      ]
    },
    {
      "cell_type": "code",
      "metadata": {
        "id": "5XaayYMRz4Sm",
        "colab_type": "code",
        "colab": {}
      },
      "source": [
        "# convert datatype\n",
        "train_samples = train_samples.astype('float32')\n",
        "test_samples = test_samples.astype('float32')"
      ],
      "execution_count": 0,
      "outputs": []
    },
    {
      "cell_type": "code",
      "metadata": {
        "id": "-vZK4GQd0Whc",
        "colab_type": "code",
        "colab": {
          "base_uri": "https://localhost:8080/",
          "height": 34
        },
        "outputId": "53c17161-b70d-4dc5-c242-b6cecd57fdcb"
      },
      "source": [
        "# Normalize inputs\n",
        "train_samples = train_samples/255\n",
        "test_samples = test_samples/255\n",
        "np.amax(train_samples)  # max value has become 1.0\n",
        "\n",
        "print(train_samples.shape)"
      ],
      "execution_count": 57,
      "outputs": [
        {
          "output_type": "stream",
          "text": [
            "(60000, 28, 28)\n"
          ],
          "name": "stdout"
        }
      ]
    },
    {
      "cell_type": "code",
      "metadata": {
        "id": "3u0V4MBO0sjP",
        "colab_type": "code",
        "colab": {
          "base_uri": "https://localhost:8080/",
          "height": 50
        },
        "outputId": "f5d9c171-b2f5-480b-aa26-b5857bf3dc70"
      },
      "source": [
        "# reshape input to be a column vector\n",
        "train_samples = train_samples.reshape(train_samples.shape[0], 28 * 28)\n",
        "print(train_samples.shape)\n",
        "test_samples = test_samples.reshape(test_samples.shape[0], 28 * 28)\n",
        "print(test_samples.shape)"
      ],
      "execution_count": 58,
      "outputs": [
        {
          "output_type": "stream",
          "text": [
            "(60000, 784)\n",
            "(10000, 784)\n"
          ],
          "name": "stdout"
        }
      ]
    },
    {
      "cell_type": "markdown",
      "metadata": {
        "id": "Eo93kK8o1btE",
        "colab_type": "text"
      },
      "source": [
        "### Convert o/p in 1-hot vectors"
      ]
    },
    {
      "cell_type": "code",
      "metadata": {
        "id": "Vs2n5zHk1gr1",
        "colab_type": "code",
        "colab": {
          "base_uri": "https://localhost:8080/",
          "height": 34
        },
        "outputId": "16a2def4-a54f-48d6-99f4-3caeadfce498"
      },
      "source": [
        "from tensorflow.keras.utils import to_categorical\n",
        "train_labels = to_categorical(train_labels)\n",
        "test_labels = to_categorical(test_labels)\n",
        "\n",
        "print(train_labels[0])"
      ],
      "execution_count": 59,
      "outputs": [
        {
          "output_type": "stream",
          "text": [
            "[0. 0. 0. 0. 0. 1. 0. 0. 0. 0.]\n"
          ],
          "name": "stdout"
        }
      ]
    },
    {
      "cell_type": "markdown",
      "metadata": {
        "id": "cMvUd7YN13XN",
        "colab_type": "text"
      },
      "source": [
        "### Network architecture"
      ]
    },
    {
      "cell_type": "markdown",
      "metadata": {
        "id": "GubJKyiQ2elE",
        "colab_type": "text"
      },
      "source": [
        "#### softmax activation"
      ]
    },
    {
      "cell_type": "code",
      "metadata": {
        "id": "swScu9ly12cD",
        "colab_type": "code",
        "colab": {}
      },
      "source": [
        "from tensorflow.keras.layers import Dense, Input\n",
        "\n",
        "input_layer = Input(shape = train_samples.shape[1:])\n",
        "hidden_layer = Dense(512, activation = 'sigmoid')(input_layer)\n",
        "output_layer = Dense(10, activation = 'softmax')(hidden_layer)"
      ],
      "execution_count": 0,
      "outputs": []
    },
    {
      "cell_type": "markdown",
      "metadata": {
        "id": "Q8dFPZFW3OQ3",
        "colab_type": "text"
      },
      "source": [
        "#### Loss = categorical Cross Entropy"
      ]
    },
    {
      "cell_type": "code",
      "metadata": {
        "id": "ojFnNJEA3Ryc",
        "colab_type": "code",
        "colab": {
          "base_uri": "https://localhost:8080/",
          "height": 252
        },
        "outputId": "17348f5d-c31d-4d25-9b9f-a24fd20886de"
      },
      "source": [
        "# Model defintion\n",
        "from tensorflow.keras.models import Model\n",
        "from tensorflow.keras import optimizers\n",
        "\n",
        "model = Model(input_layer, output_layer)\n",
        "model.compile(optimizer = optimizers.Adam(lr = 0.001), loss = 'categorical_crossentropy', metrics=['accuracy'])\n",
        "\n",
        "model.summary()"
      ],
      "execution_count": 64,
      "outputs": [
        {
          "output_type": "stream",
          "text": [
            "Model: \"model_6\"\n",
            "_________________________________________________________________\n",
            "Layer (type)                 Output Shape              Param #   \n",
            "=================================================================\n",
            "input_4 (InputLayer)         [(None, 784)]             0         \n",
            "_________________________________________________________________\n",
            "dense_6 (Dense)              (None, 512)               401920    \n",
            "_________________________________________________________________\n",
            "dense_7 (Dense)              (None, 10)                5130      \n",
            "=================================================================\n",
            "Total params: 407,050\n",
            "Trainable params: 407,050\n",
            "Non-trainable params: 0\n",
            "_________________________________________________________________\n"
          ],
          "name": "stdout"
        }
      ]
    },
    {
      "cell_type": "code",
      "metadata": {
        "id": "tz1twyG54Zvq",
        "colab_type": "code",
        "colab": {
          "base_uri": "https://localhost:8080/",
          "height": 1000
        },
        "outputId": "638c31b7-4707-485e-9b6c-4ae475df3658"
      },
      "source": [
        "history  = model.fit(train_samples, train_labels, validation_split = 0.1, epochs = 100, batch_size = 200)"
      ],
      "execution_count": 65,
      "outputs": [
        {
          "output_type": "stream",
          "text": [
            "Epoch 1/100\n",
            "270/270 [==============================] - 3s 11ms/step - loss: 4.7688e-06 - accuracy: 1.0000 - val_loss: 0.1009 - val_accuracy: 0.9850\n",
            "Epoch 2/100\n",
            "270/270 [==============================] - 3s 11ms/step - loss: 5.7125e-04 - accuracy: 0.9998 - val_loss: 0.1113 - val_accuracy: 0.9832\n",
            "Epoch 3/100\n",
            "270/270 [==============================] - 3s 10ms/step - loss: 4.4797e-05 - accuracy: 1.0000 - val_loss: 0.1036 - val_accuracy: 0.9847\n",
            "Epoch 4/100\n",
            "270/270 [==============================] - 3s 10ms/step - loss: 1.2899e-05 - accuracy: 1.0000 - val_loss: 0.1047 - val_accuracy: 0.9840\n",
            "Epoch 5/100\n",
            "270/270 [==============================] - 3s 10ms/step - loss: 8.9142e-06 - accuracy: 1.0000 - val_loss: 0.1046 - val_accuracy: 0.9840\n",
            "Epoch 6/100\n",
            "270/270 [==============================] - 3s 10ms/step - loss: 7.5587e-06 - accuracy: 1.0000 - val_loss: 0.1043 - val_accuracy: 0.9843\n",
            "Epoch 7/100\n",
            "270/270 [==============================] - 3s 10ms/step - loss: 6.7033e-06 - accuracy: 1.0000 - val_loss: 0.1048 - val_accuracy: 0.9843\n",
            "Epoch 8/100\n",
            "270/270 [==============================] - 3s 10ms/step - loss: 6.0366e-06 - accuracy: 1.0000 - val_loss: 0.1046 - val_accuracy: 0.9840\n",
            "Epoch 9/100\n",
            "270/270 [==============================] - 3s 10ms/step - loss: 5.5264e-06 - accuracy: 1.0000 - val_loss: 0.1049 - val_accuracy: 0.9843\n",
            "Epoch 10/100\n",
            "270/270 [==============================] - 3s 10ms/step - loss: 5.0983e-06 - accuracy: 1.0000 - val_loss: 0.1050 - val_accuracy: 0.9843\n",
            "Epoch 11/100\n",
            "270/270 [==============================] - 3s 10ms/step - loss: 4.7438e-06 - accuracy: 1.0000 - val_loss: 0.1047 - val_accuracy: 0.9843\n",
            "Epoch 12/100\n",
            "270/270 [==============================] - 3s 10ms/step - loss: 4.4401e-06 - accuracy: 1.0000 - val_loss: 0.1050 - val_accuracy: 0.9847\n",
            "Epoch 13/100\n",
            "270/270 [==============================] - 3s 10ms/step - loss: 4.1617e-06 - accuracy: 1.0000 - val_loss: 0.1052 - val_accuracy: 0.9847\n",
            "Epoch 14/100\n",
            "270/270 [==============================] - 3s 10ms/step - loss: 3.9193e-06 - accuracy: 1.0000 - val_loss: 0.1057 - val_accuracy: 0.9848\n",
            "Epoch 15/100\n",
            "270/270 [==============================] - 3s 10ms/step - loss: 3.7025e-06 - accuracy: 1.0000 - val_loss: 0.1056 - val_accuracy: 0.9850\n",
            "Epoch 16/100\n",
            "270/270 [==============================] - 3s 10ms/step - loss: 3.5005e-06 - accuracy: 1.0000 - val_loss: 0.1057 - val_accuracy: 0.9847\n",
            "Epoch 17/100\n",
            "270/270 [==============================] - 3s 10ms/step - loss: 3.3297e-06 - accuracy: 1.0000 - val_loss: 0.1059 - val_accuracy: 0.9848\n",
            "Epoch 18/100\n",
            "270/270 [==============================] - 3s 10ms/step - loss: 3.1595e-06 - accuracy: 1.0000 - val_loss: 0.1062 - val_accuracy: 0.9850\n",
            "Epoch 19/100\n",
            "270/270 [==============================] - 3s 10ms/step - loss: 3.0104e-06 - accuracy: 1.0000 - val_loss: 0.1062 - val_accuracy: 0.9847\n",
            "Epoch 20/100\n",
            "270/270 [==============================] - 3s 9ms/step - loss: 2.8681e-06 - accuracy: 1.0000 - val_loss: 0.1063 - val_accuracy: 0.9848\n",
            "Epoch 21/100\n",
            "270/270 [==============================] - 3s 10ms/step - loss: 2.7351e-06 - accuracy: 1.0000 - val_loss: 0.1069 - val_accuracy: 0.9850\n",
            "Epoch 22/100\n",
            "270/270 [==============================] - 3s 9ms/step - loss: 2.6021e-06 - accuracy: 1.0000 - val_loss: 0.1071 - val_accuracy: 0.9847\n",
            "Epoch 23/100\n",
            "270/270 [==============================] - 3s 9ms/step - loss: 2.4806e-06 - accuracy: 1.0000 - val_loss: 0.1069 - val_accuracy: 0.9848\n",
            "Epoch 24/100\n",
            "270/270 [==============================] - 3s 10ms/step - loss: 2.3680e-06 - accuracy: 1.0000 - val_loss: 0.1073 - val_accuracy: 0.9847\n",
            "Epoch 25/100\n",
            "270/270 [==============================] - 3s 9ms/step - loss: 2.2491e-06 - accuracy: 1.0000 - val_loss: 0.1077 - val_accuracy: 0.9848\n",
            "Epoch 26/100\n",
            "270/270 [==============================] - 3s 10ms/step - loss: 2.1487e-06 - accuracy: 1.0000 - val_loss: 0.1083 - val_accuracy: 0.9847\n",
            "Epoch 27/100\n",
            "270/270 [==============================] - 3s 9ms/step - loss: 2.0434e-06 - accuracy: 1.0000 - val_loss: 0.1090 - val_accuracy: 0.9847\n",
            "Epoch 28/100\n",
            "270/270 [==============================] - 3s 10ms/step - loss: 1.9345e-06 - accuracy: 1.0000 - val_loss: 0.1088 - val_accuracy: 0.9850\n",
            "Epoch 29/100\n",
            "270/270 [==============================] - 3s 9ms/step - loss: 1.8444e-06 - accuracy: 1.0000 - val_loss: 0.1087 - val_accuracy: 0.9847\n",
            "Epoch 30/100\n",
            "270/270 [==============================] - 3s 10ms/step - loss: 1.7448e-06 - accuracy: 1.0000 - val_loss: 0.1089 - val_accuracy: 0.9850\n",
            "Epoch 31/100\n",
            "270/270 [==============================] - 3s 10ms/step - loss: 1.6454e-06 - accuracy: 1.0000 - val_loss: 0.1097 - val_accuracy: 0.9850\n",
            "Epoch 32/100\n",
            "270/270 [==============================] - 3s 9ms/step - loss: 1.5610e-06 - accuracy: 1.0000 - val_loss: 0.1095 - val_accuracy: 0.9850\n",
            "Epoch 33/100\n",
            "270/270 [==============================] - 3s 10ms/step - loss: 1.4704e-06 - accuracy: 1.0000 - val_loss: 0.1102 - val_accuracy: 0.9850\n",
            "Epoch 34/100\n",
            "270/270 [==============================] - 3s 10ms/step - loss: 1.3930e-06 - accuracy: 1.0000 - val_loss: 0.1102 - val_accuracy: 0.9852\n",
            "Epoch 35/100\n",
            "270/270 [==============================] - 3s 9ms/step - loss: 1.3066e-06 - accuracy: 1.0000 - val_loss: 0.1112 - val_accuracy: 0.9847\n",
            "Epoch 36/100\n",
            "270/270 [==============================] - 3s 10ms/step - loss: 1.2295e-06 - accuracy: 1.0000 - val_loss: 0.1113 - val_accuracy: 0.9848\n",
            "Epoch 37/100\n",
            "270/270 [==============================] - 3s 10ms/step - loss: 1.1589e-06 - accuracy: 1.0000 - val_loss: 0.1114 - val_accuracy: 0.9850\n",
            "Epoch 38/100\n",
            "270/270 [==============================] - 3s 10ms/step - loss: 1.0825e-06 - accuracy: 1.0000 - val_loss: 0.1124 - val_accuracy: 0.9850\n",
            "Epoch 39/100\n",
            "270/270 [==============================] - 3s 10ms/step - loss: 1.0122e-06 - accuracy: 1.0000 - val_loss: 0.1131 - val_accuracy: 0.9847\n",
            "Epoch 40/100\n",
            "270/270 [==============================] - 3s 10ms/step - loss: 9.4818e-07 - accuracy: 1.0000 - val_loss: 0.1132 - val_accuracy: 0.9850\n",
            "Epoch 41/100\n",
            "270/270 [==============================] - 3s 10ms/step - loss: 8.8974e-07 - accuracy: 1.0000 - val_loss: 0.1136 - val_accuracy: 0.9850\n",
            "Epoch 42/100\n",
            "270/270 [==============================] - 3s 10ms/step - loss: 8.3441e-07 - accuracy: 1.0000 - val_loss: 0.1133 - val_accuracy: 0.9852\n",
            "Epoch 43/100\n",
            "270/270 [==============================] - 3s 10ms/step - loss: 7.7118e-07 - accuracy: 1.0000 - val_loss: 0.1142 - val_accuracy: 0.9850\n",
            "Epoch 44/100\n",
            "270/270 [==============================] - 3s 10ms/step - loss: 7.2053e-07 - accuracy: 1.0000 - val_loss: 0.1139 - val_accuracy: 0.9848\n",
            "Epoch 45/100\n",
            "270/270 [==============================] - 3s 10ms/step - loss: 6.8044e-07 - accuracy: 1.0000 - val_loss: 0.1147 - val_accuracy: 0.9848\n",
            "Epoch 46/100\n",
            "270/270 [==============================] - 3s 10ms/step - loss: 6.2905e-07 - accuracy: 1.0000 - val_loss: 0.1152 - val_accuracy: 0.9850\n",
            "Epoch 47/100\n",
            "270/270 [==============================] - 3s 10ms/step - loss: 5.8810e-07 - accuracy: 1.0000 - val_loss: 0.1165 - val_accuracy: 0.9848\n",
            "Epoch 48/100\n",
            "270/270 [==============================] - 3s 10ms/step - loss: 5.4997e-07 - accuracy: 1.0000 - val_loss: 0.1164 - val_accuracy: 0.9850\n",
            "Epoch 49/100\n",
            "270/270 [==============================] - 3s 10ms/step - loss: 5.1366e-07 - accuracy: 1.0000 - val_loss: 0.1166 - val_accuracy: 0.9848\n",
            "Epoch 50/100\n",
            "270/270 [==============================] - 3s 10ms/step - loss: 4.8177e-07 - accuracy: 1.0000 - val_loss: 0.1175 - val_accuracy: 0.9850\n",
            "Epoch 51/100\n",
            "270/270 [==============================] - 3s 10ms/step - loss: 4.4690e-07 - accuracy: 1.0000 - val_loss: 0.1171 - val_accuracy: 0.9850\n",
            "Epoch 52/100\n",
            "270/270 [==============================] - 3s 10ms/step - loss: 4.2049e-07 - accuracy: 1.0000 - val_loss: 0.1175 - val_accuracy: 0.9850\n",
            "Epoch 53/100\n",
            "270/270 [==============================] - 3s 10ms/step - loss: 3.9405e-07 - accuracy: 1.0000 - val_loss: 0.1178 - val_accuracy: 0.9850\n",
            "Epoch 54/100\n",
            "270/270 [==============================] - 3s 10ms/step - loss: 3.6866e-07 - accuracy: 1.0000 - val_loss: 0.1182 - val_accuracy: 0.9852\n",
            "Epoch 55/100\n",
            "270/270 [==============================] - 3s 10ms/step - loss: 3.4580e-07 - accuracy: 1.0000 - val_loss: 0.1193 - val_accuracy: 0.9847\n",
            "Epoch 56/100\n",
            "270/270 [==============================] - 3s 10ms/step - loss: 3.2528e-07 - accuracy: 1.0000 - val_loss: 0.1195 - val_accuracy: 0.9848\n",
            "Epoch 57/100\n",
            "270/270 [==============================] - 3s 10ms/step - loss: 3.0732e-07 - accuracy: 1.0000 - val_loss: 0.1197 - val_accuracy: 0.9852\n",
            "Epoch 58/100\n",
            "270/270 [==============================] - 3s 10ms/step - loss: 2.9105e-07 - accuracy: 1.0000 - val_loss: 0.1201 - val_accuracy: 0.9850\n",
            "Epoch 59/100\n",
            "270/270 [==============================] - 3s 10ms/step - loss: 2.7361e-07 - accuracy: 1.0000 - val_loss: 0.1210 - val_accuracy: 0.9848\n",
            "Epoch 60/100\n",
            "270/270 [==============================] - 3s 10ms/step - loss: 2.6026e-07 - accuracy: 1.0000 - val_loss: 0.1218 - val_accuracy: 0.9848\n",
            "Epoch 61/100\n",
            "270/270 [==============================] - 3s 10ms/step - loss: 2.4593e-07 - accuracy: 1.0000 - val_loss: 0.1211 - val_accuracy: 0.9850\n",
            "Epoch 62/100\n",
            "270/270 [==============================] - 3s 10ms/step - loss: 2.3387e-07 - accuracy: 1.0000 - val_loss: 0.1214 - val_accuracy: 0.9850\n",
            "Epoch 63/100\n",
            "270/270 [==============================] - 3s 10ms/step - loss: 2.2121e-07 - accuracy: 1.0000 - val_loss: 0.1222 - val_accuracy: 0.9850\n",
            "Epoch 64/100\n",
            "270/270 [==============================] - 3s 10ms/step - loss: 2.1183e-07 - accuracy: 1.0000 - val_loss: 0.1222 - val_accuracy: 0.9850\n",
            "Epoch 65/100\n",
            "270/270 [==============================] - 3s 10ms/step - loss: 2.0150e-07 - accuracy: 1.0000 - val_loss: 0.1226 - val_accuracy: 0.9850\n",
            "Epoch 66/100\n",
            "270/270 [==============================] - 3s 10ms/step - loss: 1.9109e-07 - accuracy: 1.0000 - val_loss: 0.1227 - val_accuracy: 0.9850\n",
            "Epoch 67/100\n",
            "270/270 [==============================] - 3s 10ms/step - loss: 1.8379e-07 - accuracy: 1.0000 - val_loss: 0.1233 - val_accuracy: 0.9848\n",
            "Epoch 68/100\n",
            "270/270 [==============================] - 3s 10ms/step - loss: 1.7546e-07 - accuracy: 1.0000 - val_loss: 0.1235 - val_accuracy: 0.9850\n",
            "Epoch 69/100\n",
            "270/270 [==============================] - 3s 10ms/step - loss: 1.6812e-07 - accuracy: 1.0000 - val_loss: 0.1236 - val_accuracy: 0.9850\n",
            "Epoch 70/100\n",
            "270/270 [==============================] - 3s 10ms/step - loss: 1.6162e-07 - accuracy: 1.0000 - val_loss: 0.1242 - val_accuracy: 0.9850\n",
            "Epoch 71/100\n",
            "270/270 [==============================] - 3s 10ms/step - loss: 1.5443e-07 - accuracy: 1.0000 - val_loss: 0.1245 - val_accuracy: 0.9850\n",
            "Epoch 72/100\n",
            "270/270 [==============================] - 3s 10ms/step - loss: 1.4888e-07 - accuracy: 1.0000 - val_loss: 0.1239 - val_accuracy: 0.9852\n",
            "Epoch 73/100\n",
            "270/270 [==============================] - 3s 10ms/step - loss: 1.4408e-07 - accuracy: 1.0000 - val_loss: 0.1244 - val_accuracy: 0.9850\n",
            "Epoch 74/100\n",
            "270/270 [==============================] - 3s 10ms/step - loss: 1.3795e-07 - accuracy: 1.0000 - val_loss: 0.1247 - val_accuracy: 0.9848\n",
            "Epoch 75/100\n",
            "270/270 [==============================] - 3s 10ms/step - loss: 1.3366e-07 - accuracy: 1.0000 - val_loss: 0.1254 - val_accuracy: 0.9850\n",
            "Epoch 76/100\n",
            "270/270 [==============================] - 3s 10ms/step - loss: 1.2887e-07 - accuracy: 1.0000 - val_loss: 0.1253 - val_accuracy: 0.9850\n",
            "Epoch 77/100\n",
            "270/270 [==============================] - 3s 10ms/step - loss: 1.2456e-07 - accuracy: 1.0000 - val_loss: 0.1255 - val_accuracy: 0.9850\n",
            "Epoch 78/100\n",
            "270/270 [==============================] - 3s 9ms/step - loss: 1.2104e-07 - accuracy: 1.0000 - val_loss: 0.1259 - val_accuracy: 0.9850\n",
            "Epoch 79/100\n",
            "270/270 [==============================] - 3s 10ms/step - loss: 1.1696e-07 - accuracy: 1.0000 - val_loss: 0.1259 - val_accuracy: 0.9850\n",
            "Epoch 80/100\n",
            "270/270 [==============================] - 3s 9ms/step - loss: 1.1352e-07 - accuracy: 1.0000 - val_loss: 0.1262 - val_accuracy: 0.9850\n",
            "Epoch 81/100\n",
            "270/270 [==============================] - 3s 10ms/step - loss: 1.0996e-07 - accuracy: 1.0000 - val_loss: 0.1263 - val_accuracy: 0.9850\n",
            "Epoch 82/100\n",
            "270/270 [==============================] - 3s 10ms/step - loss: 1.0660e-07 - accuracy: 1.0000 - val_loss: 0.1263 - val_accuracy: 0.9850\n",
            "Epoch 83/100\n",
            "270/270 [==============================] - 3s 10ms/step - loss: 1.0422e-07 - accuracy: 1.0000 - val_loss: 0.1268 - val_accuracy: 0.9850\n",
            "Epoch 84/100\n",
            "270/270 [==============================] - 3s 9ms/step - loss: 1.0121e-07 - accuracy: 1.0000 - val_loss: 0.1270 - val_accuracy: 0.9850\n",
            "Epoch 85/100\n",
            "270/270 [==============================] - 3s 10ms/step - loss: 9.8447e-08 - accuracy: 1.0000 - val_loss: 0.1270 - val_accuracy: 0.9850\n",
            "Epoch 86/100\n",
            "270/270 [==============================] - 3s 10ms/step - loss: 9.5738e-08 - accuracy: 1.0000 - val_loss: 0.1270 - val_accuracy: 0.9850\n",
            "Epoch 87/100\n",
            "270/270 [==============================] - 3s 10ms/step - loss: 9.3471e-08 - accuracy: 1.0000 - val_loss: 0.1271 - val_accuracy: 0.9850\n",
            "Epoch 88/100\n",
            "270/270 [==============================] - 3s 10ms/step - loss: 9.1056e-08 - accuracy: 1.0000 - val_loss: 0.1272 - val_accuracy: 0.9852\n",
            "Epoch 89/100\n",
            "270/270 [==============================] - 3s 10ms/step - loss: 8.8974e-08 - accuracy: 1.0000 - val_loss: 0.1276 - val_accuracy: 0.9850\n",
            "Epoch 90/100\n",
            "270/270 [==============================] - 3s 10ms/step - loss: 8.6862e-08 - accuracy: 1.0000 - val_loss: 0.1278 - val_accuracy: 0.9850\n",
            "Epoch 91/100\n",
            "270/270 [==============================] - 3s 10ms/step - loss: 8.4775e-08 - accuracy: 1.0000 - val_loss: 0.1276 - val_accuracy: 0.9850\n",
            "Epoch 92/100\n",
            "270/270 [==============================] - 3s 10ms/step - loss: 8.3065e-08 - accuracy: 1.0000 - val_loss: 0.1283 - val_accuracy: 0.9850\n",
            "Epoch 93/100\n",
            "270/270 [==============================] - 3s 10ms/step - loss: 8.0978e-08 - accuracy: 1.0000 - val_loss: 0.1280 - val_accuracy: 0.9850\n",
            "Epoch 94/100\n",
            "270/270 [==============================] - 3s 10ms/step - loss: 7.9382e-08 - accuracy: 1.0000 - val_loss: 0.1285 - val_accuracy: 0.9850\n",
            "Epoch 95/100\n",
            "270/270 [==============================] - 3s 10ms/step - loss: 7.7539e-08 - accuracy: 1.0000 - val_loss: 0.1282 - val_accuracy: 0.9850\n",
            "Epoch 96/100\n",
            "270/270 [==============================] - 3s 10ms/step - loss: 7.6031e-08 - accuracy: 1.0000 - val_loss: 0.1284 - val_accuracy: 0.9850\n",
            "Epoch 97/100\n",
            "270/270 [==============================] - 3s 10ms/step - loss: 7.4570e-08 - accuracy: 1.0000 - val_loss: 0.1284 - val_accuracy: 0.9850\n",
            "Epoch 98/100\n",
            "270/270 [==============================] - 3s 10ms/step - loss: 7.2941e-08 - accuracy: 1.0000 - val_loss: 0.1285 - val_accuracy: 0.9850\n",
            "Epoch 99/100\n",
            "270/270 [==============================] - 3s 10ms/step - loss: 7.1477e-08 - accuracy: 1.0000 - val_loss: 0.1288 - val_accuracy: 0.9850\n",
            "Epoch 100/100\n",
            "270/270 [==============================] - 3s 10ms/step - loss: 7.0137e-08 - accuracy: 1.0000 - val_loss: 0.1291 - val_accuracy: 0.9850\n"
          ],
          "name": "stdout"
        }
      ]
    },
    {
      "cell_type": "code",
      "metadata": {
        "id": "m3Pz4hc45kxo",
        "colab_type": "code",
        "colab": {
          "base_uri": "https://localhost:8080/",
          "height": 202
        },
        "outputId": "e6c10a6c-9deb-419a-aa58-963209cdc5fe"
      },
      "source": [
        "from sklearn.metrics import confusion_matrix\n",
        "loss, accuracy = model.evaluate(test_samples, test_labels, verbose = 0) # evaluate model\n",
        "\n",
        "print('Accuracy:%0.3f'%accuracy)\n",
        "\n",
        "pred_labels = model.predict(test_samples)\n",
        "cm = confusion_matrix(test_labels.argmax(axis = 1), pred_labels.argmax(axis = 1))\n",
        "\n",
        "print(cm)"
      ],
      "execution_count": 66,
      "outputs": [
        {
          "output_type": "stream",
          "text": [
            "Accuracy:0.982\n",
            "[[ 971    0    2    0    1    1    3    1    1    0]\n",
            " [   0 1124    3    1    0    1    2    1    3    0]\n",
            " [   2    1 1015    3    1    0    2    4    3    1]\n",
            " [   0    0    2  996    0    3    0    4    2    3]\n",
            " [   2    0    0    1  966    0    5    0    1    7]\n",
            " [   3    0    0    8    1  869    3    0    5    3]\n",
            " [   5    2    1    1    3    5  940    0    1    0]\n",
            " [   1    3    9    4    1    0    0 1008    1    1]\n",
            " [   4    0    0    4    6    2    2    3  950    3]\n",
            " [   1    2    0    5    7    4    0    3    2  985]]\n"
          ],
          "name": "stdout"
        }
      ]
    },
    {
      "cell_type": "code",
      "metadata": {
        "id": "s9dojpV27rLb",
        "colab_type": "code",
        "colab": {
          "base_uri": "https://localhost:8080/",
          "height": 268
        },
        "outputId": "587c5718-0099-475c-f4ed-d349d7e35cd5"
      },
      "source": [
        "history.history.keys()\n",
        "import matplotlib.pyplot as plt\n",
        "plt.plot(range(len(history.history['val_accuracy'])), history.history['val_accuracy'])\n",
        "plt.show()"
      ],
      "execution_count": 72,
      "outputs": [
        {
          "output_type": "display_data",
          "data": {
            "image/png": "[encoded data removed]",
            "text/plain": [
              "<Figure size 432x288 with 1 Axes>"
            ]
          },
          "metadata": {
            "tags": [],
            "needs_background": "light"
          }
        }
      ]
    },
    {
      "cell_type": "code",
      "metadata": {
        "id": "ijqtoet97d8w",
        "colab_type": "code",
        "colab": {}
      },
      "source": [
        ""
      ],
      "execution_count": 0,
      "outputs": []
    }
  ]
}