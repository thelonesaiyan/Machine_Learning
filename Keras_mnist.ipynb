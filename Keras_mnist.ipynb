{
  "nbformat": 4,
  "nbformat_minor": 0,
  "metadata": {
    "kernelspec": {
      "display_name": "Python 3",
      "language": "python",
      "name": "python3"
    },
    "language_info": {
      "codemirror_mode": {
        "name": "ipython",
        "version": 3
      },
      "file_extension": ".py",
      "mimetype": "text/x-python",
      "name": "python",
      "nbconvert_exporter": "python",
      "pygments_lexer": "ipython3",
      "version": "3.8.3"
    },
    "colab": {
      "name": "Keras.ipynb",
      "provenance": [],
      "collapsed_sections": [],
      "include_colab_link": true
    },
    "accelerator": "GPU"
  },
  "cells": [
    {
      "cell_type": "markdown",
      "metadata": {
        "id": "view-in-github",
        "colab_type": "text"
      },
      "source": [
        "<a href=\"https://colab.research.google.com/github/thelonesaiyan/Machine_Learning/blob/master/Keras_mnist.ipynb\" target=\"_parent\"><img src=\"https://colab.research.google.com/assets/colab-badge.svg\" alt=\"Open In Colab\"/></a>"
      ]
    },
    {
      "cell_type": "markdown",
      "metadata": {
        "id": "5DWymDo6RnUf",
        "colab_type": "text"
      },
      "source": [
        "# KERAS WITH TENSORFLOW"
      ]
    },
    {
      "cell_type": "markdown",
      "metadata": {
        "id": "tZfcmxu4RnUi",
        "colab_type": "text"
      },
      "source": [
        "### Import Libraries"
      ]
    },
    {
      "cell_type": "code",
      "metadata": {
        "id": "b6808azXRnUl",
        "colab_type": "code",
        "colab": {}
      },
      "source": [
        "import tensorflow as tf"
      ],
      "execution_count": 0,
      "outputs": []
    },
    {
      "cell_type": "markdown",
      "metadata": {
        "id": "sxt1BRKGRnUx",
        "colab_type": "text"
      },
      "source": [
        "### Load Dataset"
      ]
    },
    {
      "cell_type": "code",
      "metadata": {
        "id": "hl6vmYUIRnUz",
        "colab_type": "code",
        "colab": {}
      },
      "source": [
        "mnist = tf.keras.datasets.mnist"
      ],
      "execution_count": 0,
      "outputs": []
    },
    {
      "cell_type": "markdown",
      "metadata": {
        "id": "bX8rDOy8RnU9",
        "colab_type": "text"
      },
      "source": [
        "### Store values"
      ]
    },
    {
      "cell_type": "code",
      "metadata": {
        "id": "5TyodlP1RnU_",
        "colab_type": "code",
        "colab": {
          "base_uri": "https://localhost:8080/",
          "height": 50
        },
        "outputId": "9b7bdd8b-4d63-43db-e9f9-28467845f9cd"
      },
      "source": [
        "(X_train, Y_train), (X_test, Y_test) = mnist.load_data()\n",
        "X_train = X_train.reshape(-1,28, 28, 1)\n",
        "X_test = X_test.reshape(-1,28, 28, 1)"
      ],
      "execution_count": 3,
      "outputs": [
        {
          "output_type": "stream",
          "text": [
            "Downloading data from https://storage.googleapis.com/tensorflow/tf-keras-datasets/mnist.npz\n",
            "11493376/11490434 [==============================] - 0s 0us/step\n"
          ],
          "name": "stdout"
        }
      ]
    },
    {
      "cell_type": "markdown",
      "metadata": {
        "id": "BU9El2BTRnVI",
        "colab_type": "text"
      },
      "source": [
        "### Shape of the train and test data"
      ]
    },
    {
      "cell_type": "code",
      "metadata": {
        "id": "RjegB0KMRnVK",
        "colab_type": "code",
        "colab": {
          "base_uri": "https://localhost:8080/",
          "height": 84
        },
        "outputId": "03c595ca-032b-4597-8dc9-0b9c85fb9983"
      },
      "source": [
        "print(X_train.shape)\n",
        "print(X_test.shape)\n",
        "print(Y_train.shape)\n",
        "print(Y_test.shape)"
      ],
      "execution_count": 4,
      "outputs": [
        {
          "output_type": "stream",
          "text": [
            "(60000, 28, 28, 1)\n",
            "(10000, 28, 28, 1)\n",
            "(60000,)\n",
            "(10000,)\n"
          ],
          "name": "stdout"
        }
      ]
    },
    {
      "cell_type": "markdown",
      "metadata": {
        "id": "-DqtFntdRnVW",
        "colab_type": "text"
      },
      "source": [
        "### Normalize the data "
      ]
    },
    {
      "cell_type": "code",
      "metadata": {
        "id": "aby8vCAORnVX",
        "colab_type": "code",
        "colab": {}
      },
      "source": [
        "X_train = X_train / 255\n",
        "#X_test = X_test / 255"
      ],
      "execution_count": 0,
      "outputs": []
    },
    {
      "cell_type": "markdown",
      "metadata": {
        "id": "-myI_uiARnVh",
        "colab_type": "text"
      },
      "source": [
        "### CNN Layers"
      ]
    },
    {
      "cell_type": "code",
      "metadata": {
        "id": "mTVxCsVrRnVi",
        "colab_type": "code",
        "colab": {}
      },
      "source": [
        "inputs = tf.keras.layers.Input(shape = (28, 28, 1))\n",
        "hidden1 = tf.keras.layers.Conv2D(filters = 128, kernel_size = (4, 4), activation = tf.keras.activations.relu)(inputs)\n",
        "hidden2 = tf.keras.layers.Conv2D(filters=64, kernel_size=(3, 3), activation=tf.keras.activations.relu)(hidden1)\n",
        "flatten = tf.keras.layers.Flatten()(hidden2)\n",
        "hidden3 = tf.keras.layers.Dense(64, activation = tf.keras.activations.relu)(flatten)\n",
        "outputs = tf.keras.layers.Dense(10, activation = tf.keras.activations.softmax)(hidden3)"
      ],
      "execution_count": 0,
      "outputs": []
    },
    {
      "cell_type": "markdown",
      "metadata": {
        "id": "zS1h40KERnVy",
        "colab_type": "text"
      },
      "source": [
        "### Model fit"
      ]
    },
    {
      "cell_type": "code",
      "metadata": {
        "id": "i_LA_CLTRnV0",
        "colab_type": "code",
        "colab": {
          "base_uri": "https://localhost:8080/",
          "height": 353
        },
        "outputId": "dc49f6f9-0690-40c7-9545-7c8338544e7a"
      },
      "source": [
        "model = tf.keras.Model(inputs = inputs, outputs = outputs)\n",
        "model.summary()"
      ],
      "execution_count": 7,
      "outputs": [
        {
          "output_type": "stream",
          "text": [
            "Model: \"model\"\n",
            "_________________________________________________________________\n",
            "Layer (type)                 Output Shape              Param #   \n",
            "=================================================================\n",
            "input_1 (InputLayer)         [(None, 28, 28, 1)]       0         \n",
            "_________________________________________________________________\n",
            "conv2d (Conv2D)              (None, 25, 25, 128)       2176      \n",
            "_________________________________________________________________\n",
            "conv2d_1 (Conv2D)            (None, 23, 23, 64)        73792     \n",
            "_________________________________________________________________\n",
            "flatten (Flatten)            (None, 33856)             0         \n",
            "_________________________________________________________________\n",
            "dense (Dense)                (None, 64)                2166848   \n",
            "_________________________________________________________________\n",
            "dense_1 (Dense)              (None, 10)                650       \n",
            "=================================================================\n",
            "Total params: 2,243,466\n",
            "Trainable params: 2,243,466\n",
            "Non-trainable params: 0\n",
            "_________________________________________________________________\n"
          ],
          "name": "stdout"
        }
      ]
    },
    {
      "cell_type": "code",
      "metadata": {
        "id": "okpsuIVbRnV9",
        "colab_type": "code",
        "colab": {}
      },
      "source": [
        "model.compile(optimizer = tf.keras.optimizers.SGD(learning_rate=1e-3),\n",
        "              loss = tf.keras.losses.SparseCategoricalCrossentropy(), metrics = ['accuracy'])"
      ],
      "execution_count": 0,
      "outputs": []
    },
    {
      "cell_type": "code",
      "metadata": {
        "id": "ura3P6duRnWF",
        "colab_type": "code",
        "outputId": "a555d1cb-6226-4a38-b2bf-4086c5d9e39d",
        "colab": {
          "base_uri": "https://localhost:8080/",
          "height": 1000
        }
      },
      "source": [
        "history = model.fit(X_train, Y_train, batch_size=10000, epochs=200)"
      ],
      "execution_count": 9,
      "outputs": [
        {
          "output_type": "stream",
          "text": [
            "Epoch 1/200\n",
            "6/6 [==============================] - 2s 403ms/step - loss: 2.3039 - accuracy: 0.1177\n",
            "Epoch 2/200\n",
            "6/6 [==============================] - 2s 403ms/step - loss: 2.3025 - accuracy: 0.1241\n",
            "Epoch 3/200\n",
            "6/6 [==============================] - 2s 403ms/step - loss: 2.3010 - accuracy: 0.1316\n",
            "Epoch 4/200\n",
            "6/6 [==============================] - 2s 404ms/step - loss: 2.2995 - accuracy: 0.1405\n",
            "Epoch 5/200\n",
            "6/6 [==============================] - 2s 404ms/step - loss: 2.2980 - accuracy: 0.1497\n",
            "Epoch 6/200\n",
            "6/6 [==============================] - 2s 407ms/step - loss: 2.2966 - accuracy: 0.1599\n",
            "Epoch 7/200\n",
            "6/6 [==============================] - 2s 405ms/step - loss: 2.2952 - accuracy: 0.1697\n",
            "Epoch 8/200\n",
            "6/6 [==============================] - 2s 403ms/step - loss: 2.2937 - accuracy: 0.1806\n",
            "Epoch 9/200\n",
            "6/6 [==============================] - 2s 404ms/step - loss: 2.2923 - accuracy: 0.1911\n",
            "Epoch 10/200\n",
            "6/6 [==============================] - 2s 401ms/step - loss: 2.2909 - accuracy: 0.2012\n",
            "Epoch 11/200\n",
            "6/6 [==============================] - 2s 404ms/step - loss: 2.2895 - accuracy: 0.2120\n",
            "Epoch 12/200\n",
            "6/6 [==============================] - 2s 405ms/step - loss: 2.2881 - accuracy: 0.2220\n",
            "Epoch 13/200\n",
            "6/6 [==============================] - 2s 407ms/step - loss: 2.2867 - accuracy: 0.2316\n",
            "Epoch 14/200\n",
            "6/6 [==============================] - 2s 406ms/step - loss: 2.2852 - accuracy: 0.2415\n",
            "Epoch 15/200\n",
            "6/6 [==============================] - 2s 406ms/step - loss: 2.2838 - accuracy: 0.2508\n",
            "Epoch 16/200\n",
            "6/6 [==============================] - 2s 407ms/step - loss: 2.2823 - accuracy: 0.2596\n",
            "Epoch 17/200\n",
            "6/6 [==============================] - 2s 405ms/step - loss: 2.2808 - accuracy: 0.2684\n",
            "Epoch 18/200\n",
            "6/6 [==============================] - 2s 405ms/step - loss: 2.2793 - accuracy: 0.2759\n",
            "Epoch 19/200\n",
            "6/6 [==============================] - 2s 406ms/step - loss: 2.2777 - accuracy: 0.2846\n",
            "Epoch 20/200\n",
            "6/6 [==============================] - 2s 408ms/step - loss: 2.2761 - accuracy: 0.2926\n",
            "Epoch 21/200\n",
            "6/6 [==============================] - 2s 406ms/step - loss: 2.2744 - accuracy: 0.3006\n",
            "Epoch 22/200\n",
            "6/6 [==============================] - 2s 408ms/step - loss: 2.2727 - accuracy: 0.3084\n",
            "Epoch 23/200\n",
            "6/6 [==============================] - 3s 425ms/step - loss: 2.2710 - accuracy: 0.3168\n",
            "Epoch 24/200\n",
            "6/6 [==============================] - 2s 405ms/step - loss: 2.2692 - accuracy: 0.3242\n",
            "Epoch 25/200\n",
            "6/6 [==============================] - 2s 405ms/step - loss: 2.2673 - accuracy: 0.3316\n",
            "Epoch 26/200\n",
            "6/6 [==============================] - 2s 403ms/step - loss: 2.2654 - accuracy: 0.3396\n",
            "Epoch 27/200\n",
            "6/6 [==============================] - 2s 406ms/step - loss: 2.2634 - accuracy: 0.3464\n",
            "Epoch 28/200\n",
            "6/6 [==============================] - 2s 404ms/step - loss: 2.2613 - accuracy: 0.3549\n",
            "Epoch 29/200\n",
            "6/6 [==============================] - 2s 403ms/step - loss: 2.2591 - accuracy: 0.3635\n",
            "Epoch 30/200\n",
            "6/6 [==============================] - 2s 406ms/step - loss: 2.2569 - accuracy: 0.3714\n",
            "Epoch 31/200\n",
            "6/6 [==============================] - 2s 406ms/step - loss: 2.2546 - accuracy: 0.3810\n",
            "Epoch 32/200\n",
            "6/6 [==============================] - 2s 405ms/step - loss: 2.2522 - accuracy: 0.3915\n",
            "Epoch 33/200\n",
            "6/6 [==============================] - 2s 402ms/step - loss: 2.2498 - accuracy: 0.4019\n",
            "Epoch 34/200\n",
            "6/6 [==============================] - 2s 404ms/step - loss: 2.2472 - accuracy: 0.4127\n",
            "Epoch 35/200\n",
            "6/6 [==============================] - 2s 402ms/step - loss: 2.2445 - accuracy: 0.4239\n",
            "Epoch 36/200\n",
            "6/6 [==============================] - 2s 403ms/step - loss: 2.2418 - accuracy: 0.4355\n",
            "Epoch 37/200\n",
            "6/6 [==============================] - 2s 405ms/step - loss: 2.2389 - accuracy: 0.4475\n",
            "Epoch 38/200\n",
            "6/6 [==============================] - 2s 407ms/step - loss: 2.2360 - accuracy: 0.4591\n",
            "Epoch 39/200\n",
            "6/6 [==============================] - 2s 407ms/step - loss: 2.2329 - accuracy: 0.4711\n",
            "Epoch 40/200\n",
            "6/6 [==============================] - 2s 404ms/step - loss: 2.2297 - accuracy: 0.4829\n",
            "Epoch 41/200\n",
            "6/6 [==============================] - 2s 404ms/step - loss: 2.2264 - accuracy: 0.4948\n",
            "Epoch 42/200\n",
            "6/6 [==============================] - 2s 404ms/step - loss: 2.2229 - accuracy: 0.5060\n",
            "Epoch 43/200\n",
            "6/6 [==============================] - 2s 402ms/step - loss: 2.2193 - accuracy: 0.5176\n",
            "Epoch 44/200\n",
            "6/6 [==============================] - 2s 405ms/step - loss: 2.2155 - accuracy: 0.5276\n",
            "Epoch 45/200\n",
            "6/6 [==============================] - 2s 406ms/step - loss: 2.2116 - accuracy: 0.5385\n",
            "Epoch 46/200\n",
            "6/6 [==============================] - 2s 404ms/step - loss: 2.2075 - accuracy: 0.5490\n",
            "Epoch 47/200\n",
            "6/6 [==============================] - 2s 405ms/step - loss: 2.2033 - accuracy: 0.5584\n",
            "Epoch 48/200\n",
            "6/6 [==============================] - 2s 402ms/step - loss: 2.1988 - accuracy: 0.5670\n",
            "Epoch 49/200\n",
            "6/6 [==============================] - 2s 404ms/step - loss: 2.1942 - accuracy: 0.5757\n",
            "Epoch 50/200\n",
            "6/6 [==============================] - 2s 403ms/step - loss: 2.1894 - accuracy: 0.5839\n",
            "Epoch 51/200\n",
            "6/6 [==============================] - 2s 407ms/step - loss: 2.1844 - accuracy: 0.5914\n",
            "Epoch 52/200\n",
            "6/6 [==============================] - 2s 405ms/step - loss: 2.1792 - accuracy: 0.5981\n",
            "Epoch 53/200\n",
            "6/6 [==============================] - 2s 407ms/step - loss: 2.1737 - accuracy: 0.6041\n",
            "Epoch 54/200\n",
            "6/6 [==============================] - 2s 406ms/step - loss: 2.1680 - accuracy: 0.6102\n",
            "Epoch 55/200\n",
            "6/6 [==============================] - 2s 406ms/step - loss: 2.1620 - accuracy: 0.6158\n",
            "Epoch 56/200\n",
            "6/6 [==============================] - 2s 404ms/step - loss: 2.1558 - accuracy: 0.6212\n",
            "Epoch 57/200\n",
            "6/6 [==============================] - 2s 406ms/step - loss: 2.1493 - accuracy: 0.6264\n",
            "Epoch 58/200\n",
            "6/6 [==============================] - 2s 403ms/step - loss: 2.1425 - accuracy: 0.6312\n",
            "Epoch 59/200\n",
            "6/6 [==============================] - 2s 404ms/step - loss: 2.1354 - accuracy: 0.6357\n",
            "Epoch 60/200\n",
            "6/6 [==============================] - 2s 403ms/step - loss: 2.1279 - accuracy: 0.6395\n",
            "Epoch 61/200\n",
            "6/6 [==============================] - 2s 404ms/step - loss: 2.1201 - accuracy: 0.6438\n",
            "Epoch 62/200\n",
            "6/6 [==============================] - 2s 404ms/step - loss: 2.1119 - accuracy: 0.6478\n",
            "Epoch 63/200\n",
            "6/6 [==============================] - 2s 406ms/step - loss: 2.1034 - accuracy: 0.6521\n",
            "Epoch 64/200\n",
            "6/6 [==============================] - 2s 403ms/step - loss: 2.0944 - accuracy: 0.6562\n",
            "Epoch 65/200\n",
            "6/6 [==============================] - 2s 404ms/step - loss: 2.0851 - accuracy: 0.6603\n",
            "Epoch 66/200\n",
            "6/6 [==============================] - 2s 408ms/step - loss: 2.0752 - accuracy: 0.6641\n",
            "Epoch 67/200\n",
            "6/6 [==============================] - 2s 402ms/step - loss: 2.0649 - accuracy: 0.6678\n",
            "Epoch 68/200\n",
            "6/6 [==============================] - 2s 405ms/step - loss: 2.0540 - accuracy: 0.6708\n",
            "Epoch 69/200\n",
            "6/6 [==============================] - 2s 403ms/step - loss: 2.0427 - accuracy: 0.6747\n",
            "Epoch 70/200\n",
            "6/6 [==============================] - 2s 407ms/step - loss: 2.0307 - accuracy: 0.6780\n",
            "Epoch 71/200\n",
            "6/6 [==============================] - 2s 403ms/step - loss: 2.0182 - accuracy: 0.6811\n",
            "Epoch 72/200\n",
            "6/6 [==============================] - 2s 402ms/step - loss: 2.0050 - accuracy: 0.6837\n",
            "Epoch 73/200\n",
            "6/6 [==============================] - 2s 406ms/step - loss: 1.9912 - accuracy: 0.6866\n",
            "Epoch 74/200\n",
            "6/6 [==============================] - 2s 407ms/step - loss: 1.9767 - accuracy: 0.6900\n",
            "Epoch 75/200\n",
            "6/6 [==============================] - 2s 405ms/step - loss: 1.9615 - accuracy: 0.6924\n",
            "Epoch 76/200\n",
            "6/6 [==============================] - 2s 403ms/step - loss: 1.9455 - accuracy: 0.6952\n",
            "Epoch 77/200\n",
            "6/6 [==============================] - 2s 402ms/step - loss: 1.9287 - accuracy: 0.6985\n",
            "Epoch 78/200\n",
            "6/6 [==============================] - 2s 407ms/step - loss: 1.9111 - accuracy: 0.7007\n",
            "Epoch 79/200\n",
            "6/6 [==============================] - 2s 404ms/step - loss: 1.8927 - accuracy: 0.7031\n",
            "Epoch 80/200\n",
            "6/6 [==============================] - 2s 404ms/step - loss: 1.8734 - accuracy: 0.7059\n",
            "Epoch 81/200\n",
            "6/6 [==============================] - 2s 404ms/step - loss: 1.8532 - accuracy: 0.7083\n",
            "Epoch 82/200\n",
            "6/6 [==============================] - 2s 402ms/step - loss: 1.8322 - accuracy: 0.7108\n",
            "Epoch 83/200\n",
            "6/6 [==============================] - 2s 403ms/step - loss: 1.8104 - accuracy: 0.7132\n",
            "Epoch 84/200\n",
            "6/6 [==============================] - 2s 405ms/step - loss: 1.7877 - accuracy: 0.7149\n",
            "Epoch 85/200\n",
            "6/6 [==============================] - 2s 406ms/step - loss: 1.7642 - accuracy: 0.7170\n",
            "Epoch 86/200\n",
            "6/6 [==============================] - 2s 404ms/step - loss: 1.7399 - accuracy: 0.7193\n",
            "Epoch 87/200\n",
            "6/6 [==============================] - 2s 404ms/step - loss: 1.7149 - accuracy: 0.7211\n",
            "Epoch 88/200\n",
            "6/6 [==============================] - 2s 402ms/step - loss: 1.6891 - accuracy: 0.7234\n",
            "Epoch 89/200\n",
            "6/6 [==============================] - 2s 402ms/step - loss: 1.6626 - accuracy: 0.7259\n",
            "Epoch 90/200\n",
            "6/6 [==============================] - 2s 402ms/step - loss: 1.6354 - accuracy: 0.7280\n",
            "Epoch 91/200\n",
            "6/6 [==============================] - 2s 404ms/step - loss: 1.6077 - accuracy: 0.7302\n",
            "Epoch 92/200\n",
            "6/6 [==============================] - 2s 403ms/step - loss: 1.5794 - accuracy: 0.7320\n",
            "Epoch 93/200\n",
            "6/6 [==============================] - 2s 405ms/step - loss: 1.5506 - accuracy: 0.7346\n",
            "Epoch 94/200\n",
            "6/6 [==============================] - 2s 404ms/step - loss: 1.5213 - accuracy: 0.7377\n",
            "Epoch 95/200\n",
            "6/6 [==============================] - 2s 406ms/step - loss: 1.4918 - accuracy: 0.7401\n",
            "Epoch 96/200\n",
            "6/6 [==============================] - 2s 403ms/step - loss: 1.4621 - accuracy: 0.7429\n",
            "Epoch 97/200\n",
            "6/6 [==============================] - 2s 405ms/step - loss: 1.4322 - accuracy: 0.7452\n",
            "Epoch 98/200\n",
            "6/6 [==============================] - 2s 403ms/step - loss: 1.4022 - accuracy: 0.7479\n",
            "Epoch 99/200\n",
            "6/6 [==============================] - 2s 405ms/step - loss: 1.3723 - accuracy: 0.7509\n",
            "Epoch 100/200\n",
            "6/6 [==============================] - 2s 403ms/step - loss: 1.3425 - accuracy: 0.7539\n",
            "Epoch 101/200\n",
            "6/6 [==============================] - 2s 405ms/step - loss: 1.3130 - accuracy: 0.7563\n",
            "Epoch 102/200\n",
            "6/6 [==============================] - 2s 407ms/step - loss: 1.2837 - accuracy: 0.7593\n",
            "Epoch 103/200\n",
            "6/6 [==============================] - 2s 403ms/step - loss: 1.2548 - accuracy: 0.7625\n",
            "Epoch 104/200\n",
            "6/6 [==============================] - 2s 403ms/step - loss: 1.2264 - accuracy: 0.7652\n",
            "Epoch 105/200\n",
            "6/6 [==============================] - 2s 407ms/step - loss: 1.1985 - accuracy: 0.7684\n",
            "Epoch 106/200\n",
            "6/6 [==============================] - 2s 406ms/step - loss: 1.1711 - accuracy: 0.7717\n",
            "Epoch 107/200\n",
            "6/6 [==============================] - 2s 405ms/step - loss: 1.1444 - accuracy: 0.7749\n",
            "Epoch 108/200\n",
            "6/6 [==============================] - 2s 403ms/step - loss: 1.1184 - accuracy: 0.7782\n",
            "Epoch 109/200\n",
            "6/6 [==============================] - 2s 403ms/step - loss: 1.0931 - accuracy: 0.7806\n",
            "Epoch 110/200\n",
            "6/6 [==============================] - 2s 406ms/step - loss: 1.0686 - accuracy: 0.7833\n",
            "Epoch 111/200\n",
            "6/6 [==============================] - 2s 404ms/step - loss: 1.0449 - accuracy: 0.7867\n",
            "Epoch 112/200\n",
            "6/6 [==============================] - 2s 405ms/step - loss: 1.0220 - accuracy: 0.7890\n",
            "Epoch 113/200\n",
            "6/6 [==============================] - 2s 405ms/step - loss: 0.9999 - accuracy: 0.7916\n",
            "Epoch 114/200\n",
            "6/6 [==============================] - 2s 408ms/step - loss: 0.9787 - accuracy: 0.7938\n",
            "Epoch 115/200\n",
            "6/6 [==============================] - 2s 407ms/step - loss: 0.9583 - accuracy: 0.7968\n",
            "Epoch 116/200\n",
            "6/6 [==============================] - 2s 406ms/step - loss: 0.9387 - accuracy: 0.7989\n",
            "Epoch 117/200\n",
            "6/6 [==============================] - 2s 403ms/step - loss: 0.9198 - accuracy: 0.8009\n",
            "Epoch 118/200\n",
            "6/6 [==============================] - 2s 406ms/step - loss: 0.9018 - accuracy: 0.8026\n",
            "Epoch 119/200\n",
            "6/6 [==============================] - 2s 402ms/step - loss: 0.8845 - accuracy: 0.8044\n",
            "Epoch 120/200\n",
            "6/6 [==============================] - 2s 407ms/step - loss: 0.8678 - accuracy: 0.8069\n",
            "Epoch 121/200\n",
            "6/6 [==============================] - 2s 406ms/step - loss: 0.8519 - accuracy: 0.8089\n",
            "Epoch 122/200\n",
            "6/6 [==============================] - 2s 402ms/step - loss: 0.8367 - accuracy: 0.8108\n",
            "Epoch 123/200\n",
            "6/6 [==============================] - 2s 402ms/step - loss: 0.8220 - accuracy: 0.8126\n",
            "Epoch 124/200\n",
            "6/6 [==============================] - 2s 403ms/step - loss: 0.8080 - accuracy: 0.8150\n",
            "Epoch 125/200\n",
            "6/6 [==============================] - 2s 404ms/step - loss: 0.7946 - accuracy: 0.8163\n",
            "Epoch 126/200\n",
            "6/6 [==============================] - 2s 406ms/step - loss: 0.7817 - accuracy: 0.8179\n",
            "Epoch 127/200\n",
            "6/6 [==============================] - 2s 405ms/step - loss: 0.7694 - accuracy: 0.8201\n",
            "Epoch 128/200\n",
            "6/6 [==============================] - 2s 404ms/step - loss: 0.7575 - accuracy: 0.8217\n",
            "Epoch 129/200\n",
            "6/6 [==============================] - 2s 405ms/step - loss: 0.7461 - accuracy: 0.8236\n",
            "Epoch 130/200\n",
            "6/6 [==============================] - 2s 404ms/step - loss: 0.7352 - accuracy: 0.8250\n",
            "Epoch 131/200\n",
            "6/6 [==============================] - 2s 401ms/step - loss: 0.7247 - accuracy: 0.8267\n",
            "Epoch 132/200\n",
            "6/6 [==============================] - 2s 405ms/step - loss: 0.7146 - accuracy: 0.8283\n",
            "Epoch 133/200\n",
            "6/6 [==============================] - 2s 406ms/step - loss: 0.7049 - accuracy: 0.8303\n",
            "Epoch 134/200\n",
            "6/6 [==============================] - 2s 405ms/step - loss: 0.6956 - accuracy: 0.8316\n",
            "Epoch 135/200\n",
            "6/6 [==============================] - 2s 406ms/step - loss: 0.6866 - accuracy: 0.8334\n",
            "Epoch 136/200\n",
            "6/6 [==============================] - 2s 402ms/step - loss: 0.6780 - accuracy: 0.8346\n",
            "Epoch 137/200\n",
            "6/6 [==============================] - 2s 403ms/step - loss: 0.6697 - accuracy: 0.8359\n",
            "Epoch 138/200\n",
            "6/6 [==============================] - 2s 406ms/step - loss: 0.6616 - accuracy: 0.8374\n",
            "Epoch 139/200\n",
            "6/6 [==============================] - 2s 406ms/step - loss: 0.6539 - accuracy: 0.8389\n",
            "Epoch 140/200\n",
            "6/6 [==============================] - 2s 404ms/step - loss: 0.6464 - accuracy: 0.8401\n",
            "Epoch 141/200\n",
            "6/6 [==============================] - 2s 406ms/step - loss: 0.6392 - accuracy: 0.8413\n",
            "Epoch 142/200\n",
            "6/6 [==============================] - 2s 403ms/step - loss: 0.6322 - accuracy: 0.8422\n",
            "Epoch 143/200\n",
            "6/6 [==============================] - 2s 406ms/step - loss: 0.6255 - accuracy: 0.8431\n",
            "Epoch 144/200\n",
            "6/6 [==============================] - 2s 406ms/step - loss: 0.6190 - accuracy: 0.8439\n",
            "Epoch 145/200\n",
            "6/6 [==============================] - 2s 405ms/step - loss: 0.6128 - accuracy: 0.8451\n",
            "Epoch 146/200\n",
            "6/6 [==============================] - 2s 404ms/step - loss: 0.6067 - accuracy: 0.8460\n",
            "Epoch 147/200\n",
            "6/6 [==============================] - 2s 406ms/step - loss: 0.6009 - accuracy: 0.8472\n",
            "Epoch 148/200\n",
            "6/6 [==============================] - 2s 405ms/step - loss: 0.5952 - accuracy: 0.8483\n",
            "Epoch 149/200\n",
            "6/6 [==============================] - 2s 406ms/step - loss: 0.5897 - accuracy: 0.8493\n",
            "Epoch 150/200\n",
            "6/6 [==============================] - 2s 404ms/step - loss: 0.5844 - accuracy: 0.8503\n",
            "Epoch 151/200\n",
            "6/6 [==============================] - 2s 403ms/step - loss: 0.5793 - accuracy: 0.8509\n",
            "Epoch 152/200\n",
            "6/6 [==============================] - 2s 403ms/step - loss: 0.5743 - accuracy: 0.8519\n",
            "Epoch 153/200\n",
            "6/6 [==============================] - 2s 401ms/step - loss: 0.5695 - accuracy: 0.8529\n",
            "Epoch 154/200\n",
            "6/6 [==============================] - 2s 406ms/step - loss: 0.5649 - accuracy: 0.8540\n",
            "Epoch 155/200\n",
            "6/6 [==============================] - 2s 405ms/step - loss: 0.5603 - accuracy: 0.8547\n",
            "Epoch 156/200\n",
            "6/6 [==============================] - 2s 404ms/step - loss: 0.5560 - accuracy: 0.8552\n",
            "Epoch 157/200\n",
            "6/6 [==============================] - 2s 403ms/step - loss: 0.5517 - accuracy: 0.8563\n",
            "Epoch 158/200\n",
            "6/6 [==============================] - 2s 404ms/step - loss: 0.5476 - accuracy: 0.8568\n",
            "Epoch 159/200\n",
            "6/6 [==============================] - 2s 406ms/step - loss: 0.5436 - accuracy: 0.8578\n",
            "Epoch 160/200\n",
            "6/6 [==============================] - 2s 401ms/step - loss: 0.5397 - accuracy: 0.8584\n",
            "Epoch 161/200\n",
            "6/6 [==============================] - 2s 402ms/step - loss: 0.5359 - accuracy: 0.8592\n",
            "Epoch 162/200\n",
            "6/6 [==============================] - 2s 404ms/step - loss: 0.5322 - accuracy: 0.8598\n",
            "Epoch 163/200\n",
            "6/6 [==============================] - 2s 405ms/step - loss: 0.5286 - accuracy: 0.8604\n",
            "Epoch 164/200\n",
            "6/6 [==============================] - 2s 403ms/step - loss: 0.5252 - accuracy: 0.8612\n",
            "Epoch 165/200\n",
            "6/6 [==============================] - 2s 407ms/step - loss: 0.5218 - accuracy: 0.8617\n",
            "Epoch 166/200\n",
            "6/6 [==============================] - 2s 404ms/step - loss: 0.5185 - accuracy: 0.8626\n",
            "Epoch 167/200\n",
            "6/6 [==============================] - 2s 402ms/step - loss: 0.5153 - accuracy: 0.8633\n",
            "Epoch 168/200\n",
            "6/6 [==============================] - 2s 400ms/step - loss: 0.5122 - accuracy: 0.8638\n",
            "Epoch 169/200\n",
            "6/6 [==============================] - 2s 404ms/step - loss: 0.5092 - accuracy: 0.8645\n",
            "Epoch 170/200\n",
            "6/6 [==============================] - 2s 404ms/step - loss: 0.5062 - accuracy: 0.8651\n",
            "Epoch 171/200\n",
            "6/6 [==============================] - 2s 404ms/step - loss: 0.5033 - accuracy: 0.8657\n",
            "Epoch 172/200\n",
            "6/6 [==============================] - 2s 402ms/step - loss: 0.5005 - accuracy: 0.8664\n",
            "Epoch 173/200\n",
            "6/6 [==============================] - 2s 404ms/step - loss: 0.4978 - accuracy: 0.8668\n",
            "Epoch 174/200\n",
            "6/6 [==============================] - 2s 405ms/step - loss: 0.4951 - accuracy: 0.8671\n",
            "Epoch 175/200\n",
            "6/6 [==============================] - 2s 407ms/step - loss: 0.4925 - accuracy: 0.8676\n",
            "Epoch 176/200\n",
            "6/6 [==============================] - 2s 405ms/step - loss: 0.4900 - accuracy: 0.8682\n",
            "Epoch 177/200\n",
            "6/6 [==============================] - 2s 404ms/step - loss: 0.4875 - accuracy: 0.8689\n",
            "Epoch 178/200\n",
            "6/6 [==============================] - 2s 403ms/step - loss: 0.4851 - accuracy: 0.8692\n",
            "Epoch 179/200\n",
            "6/6 [==============================] - 2s 405ms/step - loss: 0.4827 - accuracy: 0.8695\n",
            "Epoch 180/200\n",
            "6/6 [==============================] - 2s 402ms/step - loss: 0.4804 - accuracy: 0.8699\n",
            "Epoch 181/200\n",
            "6/6 [==============================] - 2s 404ms/step - loss: 0.4782 - accuracy: 0.8704\n",
            "Epoch 182/200\n",
            "6/6 [==============================] - 2s 405ms/step - loss: 0.4760 - accuracy: 0.8710\n",
            "Epoch 183/200\n",
            "6/6 [==============================] - 2s 407ms/step - loss: 0.4738 - accuracy: 0.8713\n",
            "Epoch 184/200\n",
            "6/6 [==============================] - 2s 404ms/step - loss: 0.4717 - accuracy: 0.8718\n",
            "Epoch 185/200\n",
            "6/6 [==============================] - 2s 403ms/step - loss: 0.4697 - accuracy: 0.8720\n",
            "Epoch 186/200\n",
            "6/6 [==============================] - 2s 404ms/step - loss: 0.4677 - accuracy: 0.8726\n",
            "Epoch 187/200\n",
            "6/6 [==============================] - 2s 405ms/step - loss: 0.4657 - accuracy: 0.8730\n",
            "Epoch 188/200\n",
            "6/6 [==============================] - 2s 407ms/step - loss: 0.4638 - accuracy: 0.8735\n",
            "Epoch 189/200\n",
            "6/6 [==============================] - 2s 404ms/step - loss: 0.4619 - accuracy: 0.8739\n",
            "Epoch 190/200\n",
            "6/6 [==============================] - 2s 402ms/step - loss: 0.4601 - accuracy: 0.8744\n",
            "Epoch 191/200\n",
            "6/6 [==============================] - 2s 404ms/step - loss: 0.4583 - accuracy: 0.8747\n",
            "Epoch 192/200\n",
            "6/6 [==============================] - 2s 406ms/step - loss: 0.4565 - accuracy: 0.8750\n",
            "Epoch 193/200\n",
            "6/6 [==============================] - 2s 406ms/step - loss: 0.4548 - accuracy: 0.8756\n",
            "Epoch 194/200\n",
            "6/6 [==============================] - 2s 404ms/step - loss: 0.4531 - accuracy: 0.8759\n",
            "Epoch 195/200\n",
            "6/6 [==============================] - 2s 401ms/step - loss: 0.4514 - accuracy: 0.8761\n",
            "Epoch 196/200\n",
            "6/6 [==============================] - 2s 406ms/step - loss: 0.4498 - accuracy: 0.8766\n",
            "Epoch 197/200\n",
            "6/6 [==============================] - 2s 406ms/step - loss: 0.4482 - accuracy: 0.8765\n",
            "Epoch 198/200\n",
            "6/6 [==============================] - 2s 402ms/step - loss: 0.4466 - accuracy: 0.8770\n",
            "Epoch 199/200\n",
            "6/6 [==============================] - 2s 405ms/step - loss: 0.4451 - accuracy: 0.8775\n",
            "Epoch 200/200\n",
            "6/6 [==============================] - 2s 401ms/step - loss: 0.4436 - accuracy: 0.8776\n"
          ],
          "name": "stdout"
        }
      ]
    },
    {
      "cell_type": "markdown",
      "metadata": {
        "id": "UnVfgBjWRnWN",
        "colab_type": "text"
      },
      "source": [
        "### Plotting the loss"
      ]
    },
    {
      "cell_type": "code",
      "metadata": {
        "id": "IisR8QFqRnWP",
        "colab_type": "code",
        "colab": {
          "base_uri": "https://localhost:8080/",
          "height": 282
        },
        "outputId": "3d82c2c6-9df8-41fc-9011-3bde084c4de1"
      },
      "source": [
        "import matplotlib.pyplot as plt\n",
        "plt.plot(history.history['loss'])"
      ],
      "execution_count": 10,
      "outputs": [
        {
          "output_type": "execute_result",
          "data": {
            "text/plain": [
              "[<matplotlib.lines.Line2D at 0x7f35402f9898>]"
            ]
          },
          "metadata": {
            "tags": []
          },
          "execution_count": 10
        },
        {
          "output_type": "display_data",
          "data": {
            "image/png": "[encoded data removed]",
            "text/plain": [
              "<Figure size 432x288 with 1 Axes>"
            ]
          },
          "metadata": {
            "tags": [],
            "needs_background": "light"
          }
        }
      ]
    },
    {
      "cell_type": "code",
      "metadata": {
        "id": "5Bjhffm3VPJC",
        "colab_type": "code",
        "colab": {
          "base_uri": "https://localhost:8080/",
          "height": 282
        },
        "outputId": "91b1ae43-0b63-4e60-e405-12d8f327c046"
      },
      "source": [
        "import matplotlib.pyplot as plt\n",
        "plt.plot(history.history['accuracy'])"
      ],
      "execution_count": 15,
      "outputs": [
        {
          "output_type": "execute_result",
          "data": {
            "text/plain": [
              "[<matplotlib.lines.Line2D at 0x7f34d679a630>]"
            ]
          },
          "metadata": {
            "tags": []
          },
          "execution_count": 15
        },
        {
          "output_type": "display_data",
          "data": {
            "image/png": "[encoded data removed]",
            "text/plain": [
              "<Figure size 432x288 with 1 Axes>"
            ]
          },
          "metadata": {
            "tags": [],
            "needs_background": "light"
          }
        }
      ]
    },
    {
      "cell_type": "code",
      "metadata": {
        "id": "TMwXDmPHVCbg",
        "colab_type": "code",
        "colab": {}
      },
      "source": [
        ""
      ],
      "execution_count": 0,
      "outputs": []
    }
  ]
}